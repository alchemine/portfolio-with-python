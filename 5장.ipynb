{
 "cells": [
  {
   "cell_type": "code",
   "execution_count": 1,
   "id": "5bc59d82",
   "metadata": {},
   "outputs": [],
   "source": [
    "import numpy as np"
   ]
  },
  {
   "cell_type": "code",
   "execution_count": 23,
   "id": "ff730b71",
   "metadata": {},
   "outputs": [],
   "source": [
    "r_BM = np.array([0.028, 0.069, 0.085])\n",
    "w    = np.array([0.582, 0.320, 0.098])\n",
    "r_f  = 0.0098\n",
    "C    = np.matrix([[0.0078, 0.0033, 0.0026],\n",
    "        [0.0033, 0.0216, 0.0029],\n",
    "        [0.0026, 0.0029, 0.0323]])"
   ]
  },
  {
   "cell_type": "code",
   "execution_count": 13,
   "id": "89ad1dcc",
   "metadata": {},
   "outputs": [
    {
     "data": {
      "text/plain": [
       "array([0.03142063, 0.04896341, 0.03011125])"
      ]
     },
     "execution_count": 13,
     "metadata": {},
     "output_type": "execute_result"
    }
   ],
   "source": [
    "v_BM = w.T @ C @ w\n",
    "c_risk_avoid = (w@r_BM - r_f) / v_BM\n",
    "pi = c_risk_avoid * C @ w\n",
    "pi"
   ]
  },
  {
   "cell_type": "code",
   "execution_count": 24,
   "id": "c863ab6e",
   "metadata": {},
   "outputs": [
    {
     "data": {
      "text/plain": [
       "matrix([[ 4.87500e-04, -4.37500e-05],\n",
       "        [-4.37500e-05,  3.00625e-03]])"
      ]
     },
     "execution_count": 24,
     "metadata": {},
     "output_type": "execute_result"
    }
   ],
   "source": [
    "Q = np.array([0.054, 0.070])\n",
    "P = np.array([[1, 0, 0],\n",
    "              [0, -1, 1]])\n",
    "tau = 1/16\n",
    "uncertainty = np.matrix(P @ (tau*C) @ P.T * np.eye(len(P)))\n",
    "uncertainty"
   ]
  },
  {
   "cell_type": "code",
   "execution_count": 26,
   "id": "7fe75055",
   "metadata": {},
   "outputs": [],
   "source": [
    "part1 = ((tau*C).I + P.T @ uncertainty.I @ P).I"
   ]
  },
  {
   "cell_type": "code",
   "execution_count": 38,
   "id": "30ac4621",
   "metadata": {},
   "outputs": [],
   "source": [
    "part2 = (tau*C).I @ pi + P.T @ uncertainty.I @ Q"
   ]
  },
  {
   "cell_type": "code",
   "execution_count": 41,
   "id": "d261fd74",
   "metadata": {},
   "outputs": [
    {
     "data": {
      "text/plain": [
       "matrix([[50.01177166, 27.49788133,  8.42122616]])"
      ]
     },
     "execution_count": 41,
     "metadata": {},
     "output_type": "execute_result"
    }
   ],
   "source": [
    "(tau*C).I @ pi"
   ]
  },
  {
   "cell_type": "code",
   "execution_count": 39,
   "id": "a67033e4",
   "metadata": {},
   "outputs": [
    {
     "data": {
      "text/plain": [
       "matrix([[163.01825703,   2.56847302,  33.35063447]])"
      ]
     },
     "execution_count": 39,
     "metadata": {},
     "output_type": "execute_result"
    }
   ],
   "source": [
    "part2"
   ]
  },
  {
   "cell_type": "code",
   "execution_count": 36,
   "id": "373cd0db",
   "metadata": {},
   "outputs": [
    {
     "data": {
      "text/plain": [
       "matrix([[2.43750000e-04, 1.03125000e-04, 8.12500000e-05],\n",
       "        [1.03125000e-04, 1.08603204e-03, 5.01657036e-04],\n",
       "        [8.12500000e-05, 5.01657036e-04, 1.42040704e-03]])"
      ]
     },
     "execution_count": 36,
     "metadata": {},
     "output_type": "execute_result"
    }
   ],
   "source": [
    "part1"
   ]
  },
  {
   "cell_type": "code",
   "execution_count": 37,
   "id": "442fec7d",
   "metadata": {},
   "outputs": [
    {
     "data": {
      "text/plain": [
       "matrix([[163.01825703,   2.56847302,  33.35063447]])"
      ]
     },
     "execution_count": 37,
     "metadata": {},
     "output_type": "execute_result"
    }
   ],
   "source": [
    "part2"
   ]
  },
  {
   "cell_type": "code",
   "execution_count": 45,
   "id": "4bb47d24",
   "metadata": {},
   "outputs": [
    {
     "data": {
      "text/plain": [
       "matrix([[4.2710313 ],\n",
       "        [3.63312822],\n",
       "        [6.19052018]])"
      ]
     },
     "execution_count": 45,
     "metadata": {},
     "output_type": "execute_result"
    }
   ],
   "source": [
    "part1 @ part2.T * 100"
   ]
  }
 ],
 "metadata": {
  "kernelspec": {
   "display_name": "tf_torch",
   "language": "python",
   "name": "tf_torch"
  },
  "language_info": {
   "codemirror_mode": {
    "name": "ipython",
    "version": 3
   },
   "file_extension": ".py",
   "mimetype": "text/x-python",
   "name": "python",
   "nbconvert_exporter": "python",
   "pygments_lexer": "ipython3",
   "version": "3.8.13"
  }
 },
 "nbformat": 4,
 "nbformat_minor": 5
}
