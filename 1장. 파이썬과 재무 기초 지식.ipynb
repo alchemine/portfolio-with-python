{
 "cells": [
  {
   "cell_type": "code",
   "execution_count": 14,
   "id": "69fa1341",
   "metadata": {},
   "outputs": [
    {
     "data": {
      "text/plain": [
       "1050.0"
      ]
     },
     "execution_count": 14,
     "metadata": {},
     "output_type": "execute_result"
    }
   ],
   "source": [
    "def fv_simple(pv, nper, rate):\n",
    "    return pv * (1 + nper*rate)\n",
    "\n",
    "pv   = 1000  # 현재가치: 1000만원\n",
    "nper = 1     # 기간: 1년\n",
    "rate = 0.05  # 이율: 5%/년\n",
    "\n",
    "fv_simple(pv, nper, rate)"
   ]
  },
  {
   "cell_type": "code",
   "execution_count": 17,
   "id": "8159c8a2",
   "metadata": {},
   "outputs": [
    {
     "data": {
      "text/plain": [
       "1051.161897881733"
      ]
     },
     "execution_count": 17,
     "metadata": {},
     "output_type": "execute_result"
    }
   ],
   "source": [
    "def fv_compound(pv, nper, rate):\n",
    "    return pv * (1 + rate)**nper\n",
    "\n",
    "pv   = 1000     # 현재가치: 1000만원\n",
    "nper = 12       # 기간: 12개월\n",
    "rate = 0.05/12  # 이율: (5/12)%/월\n",
    "\n",
    "fv_compound(pv, nper, rate)"
   ]
  },
  {
   "cell_type": "code",
   "execution_count": 18,
   "id": "c0b3e8b2",
   "metadata": {},
   "outputs": [
    {
     "data": {
      "text/plain": [
       "1051.161897881733"
      ]
     },
     "execution_count": 18,
     "metadata": {},
     "output_type": "execute_result"
    }
   ],
   "source": [
    "import numpy_financial as npf\n",
    "\n",
    "npf.fv(rate, nper, 0, -pv)  # the negative sign represents cash flow out (i.e. money not available today)"
   ]
  },
  {
   "cell_type": "code",
   "execution_count": 67,
   "id": "cbb18653",
   "metadata": {},
   "outputs": [
    {
     "name": "stdout",
     "output_type": "stream",
     "text": [
      "0년 뒤, -70000원의 현재가치: -70000\n",
      "1년 뒤, 12000원의 현재가치: 11043\n",
      "2년 뒤, 15000원의 현재가치: 12704\n",
      "3년 뒤, 18000원의 현재가치: 14029\n",
      "4년 뒤, 21000원의 현재가치: 15062\n",
      "5년 뒤, 26000원의 현재가치: 17162\n"
     ]
    },
    {
     "data": {
      "text/plain": [
       "2.546585164964199e-11"
      ]
     },
     "execution_count": 67,
     "metadata": {},
     "output_type": "execute_result"
    }
   ],
   "source": [
    "cashflows = [-70000, 12000, 15000, 18000, 21000, 26000]  # 최초 투자금액 (현금유출)\n",
    "rate      = 0.08663094803653149   # 할인율: 0.015%\n",
    "npv       = 0\n",
    "\n",
    "for i, c in enumerate(cashflows):\n",
    "    pv = c / (1+rate)**i\n",
    "    npv += pv\n",
    "    print(f\"{i}년 뒤, {c}원의 현재가치: {pv:.0f}\")\n",
    "npv"
   ]
  },
  {
   "cell_type": "code",
   "execution_count": 66,
   "id": "12ff0ceb",
   "metadata": {},
   "outputs": [
    {
     "data": {
      "text/plain": [
       "0.08663094803653149"
      ]
     },
     "execution_count": 66,
     "metadata": {},
     "output_type": "execute_result"
    }
   ],
   "source": [
    "import numpy_financial as npf\n",
    "\n",
    "npf.irr(cashflows)"
   ]
  },
  {
   "cell_type": "code",
   "execution_count": 3,
   "id": "25755b33",
   "metadata": {},
   "outputs": [
    {
     "data": {
      "image/png": "[encoded data removed]",
      "text/plain": [
       "<Figure size 640x480 with 1 Axes>"
      ]
     },
     "metadata": {},
     "output_type": "display_data"
    }
   ],
   "source": [
    "import numpy as np\n",
    "import matplotlib.pyplot as plt\n",
    "from scipy.stats import norm\n",
    "\n",
    "X = np.arange(-10, 10, 0.001)\n",
    "plt.plot(X, norm.pdf(X, 0, 2));"
   ]
  },
  {
   "cell_type": "code",
   "execution_count": 76,
   "id": "c9a28b4a",
   "metadata": {},
   "outputs": [],
   "source": [
    "# X = np.array([41, 43, 38, 37])\n",
    "# y = np.array([61, 63, 56, 55])\n",
    "\n",
    "X = np.array([-10, 0, 5, 10])\n",
    "y = np.array([-20, 0, 10, 20])\n",
    "n = len(X)"
   ]
  },
  {
   "cell_type": "code",
   "execution_count": 77,
   "id": "dd146650",
   "metadata": {},
   "outputs": [],
   "source": [
    "X_mean = X.mean()\n",
    "X_std  = X.std(ddof=1)\n",
    "y_mean = y.mean()\n",
    "y_std  = y.std(ddof=1)"
   ]
  },
  {
   "cell_type": "code",
   "execution_count": 78,
   "id": "521b12bb",
   "metadata": {},
   "outputs": [
    {
     "data": {
      "text/plain": [
       "(1.25, 8.539125638299666, 2.5, 17.07825127659933)"
      ]
     },
     "execution_count": 78,
     "metadata": {},
     "output_type": "execute_result"
    }
   ],
   "source": [
    "X_mean, X_std, y_mean, y_std"
   ]
  },
  {
   "cell_type": "code",
   "execution_count": 79,
   "id": "b916a0e3",
   "metadata": {},
   "outputs": [
    {
     "data": {
      "text/plain": [
       "116.66666666666669"
      ]
     },
     "execution_count": 79,
     "metadata": {},
     "output_type": "execute_result"
    }
   ],
   "source": [
    "cov"
   ]
  },
  {
   "cell_type": "code",
   "execution_count": 80,
   "id": "1f26b8c1",
   "metadata": {},
   "outputs": [],
   "source": [
    "cov = (X - X_mean)@(y - y_mean) / (n-1)\n",
    "rho = cov / (X_std * y_std)"
   ]
  },
  {
   "cell_type": "code",
   "execution_count": 81,
   "id": "267c3d7b",
   "metadata": {},
   "outputs": [
    {
     "data": {
      "text/plain": [
       "(145.83333333333334, 1.0)"
      ]
     },
     "execution_count": 81,
     "metadata": {},
     "output_type": "execute_result"
    }
   ],
   "source": [
    "cov, rho"
   ]
  },
  {
   "cell_type": "code",
   "execution_count": 82,
   "id": "86323a94",
   "metadata": {},
   "outputs": [
    {
     "data": {
      "text/plain": [
       "(145.83333333333331, 1.0)"
      ]
     },
     "execution_count": 82,
     "metadata": {},
     "output_type": "execute_result"
    }
   ],
   "source": [
    "np.cov(X, y)[0, 1], np.corrcoef(X, y)[0, 1]"
   ]
  }
 ],
 "metadata": {
  "kernelspec": {
   "display_name": "pf",
   "language": "python",
   "name": "pf"
  },
  "language_info": {
   "codemirror_mode": {
    "name": "ipython",
    "version": 3
   },
   "file_extension": ".py",
   "mimetype": "text/x-python",
   "name": "python",
   "nbconvert_exporter": "python",
   "pygments_lexer": "ipython3",
   "version": "3.10.8"
  }
 },
 "nbformat": 4,
 "nbformat_minor": 5
}
